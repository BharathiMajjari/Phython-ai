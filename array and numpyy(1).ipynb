{
 "cells": [
  {
   "cell_type": "markdown",
   "metadata": {},
   "source": [
    "#arrays\n"
   ]
  },
  {
   "cell_type": "code",
   "execution_count": 4,
   "metadata": {},
   "outputs": [
    {
     "name": "stdout",
     "output_type": "stream",
     "text": [
      "1 2 3 "
     ]
    }
   ],
   "source": [
    "from array import*\n",
    "a=array(\"i\",[1,2,3])#intialising elements\n",
    "for i in a:\n",
    "    print(i,end=\" \")\n",
    "    "
   ]
  },
  {
   "cell_type": "code",
   "execution_count": null,
   "metadata": {},
   "outputs": [],
   "source": []
  },
  {
   "cell_type": "code",
   "execution_count": 3,
   "metadata": {},
   "outputs": [
    {
     "name": "stdout",
     "output_type": "stream",
     "text": [
      "array('i', [1, 2, 3, 3, 4, 4, 5])\n",
      "array('i', [1, 2, 3, 3, 4, 4])\n",
      "array('i', [1, 2, 3, 4, 4])\n",
      "array('i', [4, 4, 3, 2, 1])\n"
     ]
    }
   ],
   "source": [
    " #adding elements(append,insert,extend\n",
    "from array import*\n",
    "a=array(\"i\",[1,2,3])\n",
    "a.append(4)\n",
    "a.extend([4,5])\n",
    "a.insert(2,3)\n",
    "print(a)\n",
    "a.remove(5)#remove ,pop\n",
    "print(a)\n",
    "a.pop(2)\n",
    "print(a)\n",
    "a.reverse()\n",
    "print(a)"
   ]
  },
  {
   "cell_type": "markdown",
   "metadata": {},
   "source": [
    "print(a.count(4))#conting of numbers and index of specific number\n",
    "print(a.index(2))\n",
    "a.reverse() #mam plz check this output\n",
    "print(a)"
   ]
  },
  {
   "cell_type": "code",
   "execution_count": 5,
   "metadata": {},
   "outputs": [
    {
     "name": "stdout",
     "output_type": "stream",
     "text": [
      "2\n",
      "0\n",
      "array('i', [1, 2, 3, 4, 4])\n",
      "5\n",
      "array('i', [1, 2, 3, 4, 4])\n",
      "80938032\n",
      "<class 'array.array'>\n"
     ]
    }
   ],
   "source": [
    "from array import*\n",
    "a=array(\"i\",[4,4,3,2,1])\n",
    "\n",
    "print(a.count(4))#index and count\n",
    "print(a.index(4))\n",
    "a.reverse()#reverse\n",
    "print(a)\n",
    "print(len(a))#len\n",
    "b=a\n",
    "print(b)\n",
    "print(id(a))#adress\n",
    "print(type(a))\n"
   ]
  },
  {
   "cell_type": "markdown",
   "metadata": {},
   "source": [
    "#numpy(numerical python)\n"
   ]
  },
  {
   "cell_type": "code",
   "execution_count": 44,
   "metadata": {},
   "outputs": [
    {
     "name": "stdout",
     "output_type": "stream",
     "text": [
      "2\n",
      "6\n",
      "(2, 3)\n",
      "4\n",
      "int32\n",
      "<class 'numpy.ndarray'>\n"
     ]
    }
   ],
   "source": [
    "from numpy import *\n",
    "a=array([\n",
    "    [1,2,3],\n",
    "    [4,5,6]\n",
    "])\n",
    "print(a.ndim)#no.of.dimensions\n",
    "print(a.size)#size of array\n",
    "print(a.shape)#shape\n",
    "print(a.itemsize)#each element size\n",
    "print(a.dtype)\n",
    "print(type(a))"
   ]
  },
  {
   "cell_type": "code",
   "execution_count": 64,
   "metadata": {},
   "outputs": [
    {
     "name": "stdout",
     "output_type": "stream",
     "text": [
      "[[1 2 3]\n",
      " [4 5 6]\n",
      " [7 8 9]]\n",
      "[1. 2. 3.]\n",
      "[0 0 0 0 0]\n",
      "[1 1 1 1 1]\n",
      "[1.00000000e+01 2.97635144e+01 8.85866790e+01 2.63665090e+02\n",
      " 7.84759970e+02 2.33572147e+03 6.95192796e+03 2.06913808e+04\n",
      " 6.15848211e+04 1.83298071e+05 5.45559478e+05 1.62377674e+06\n",
      " 4.83293024e+06 1.43844989e+07 4.28133240e+07 1.27427499e+08\n",
      " 3.79269019e+08 1.12883789e+09 3.35981829e+09 1.00000000e+10]\n",
      "[ 1.          1.47368421  1.94736842  2.42105263  2.89473684  3.36842105\n",
      "  3.84210526  4.31578947  4.78947368  5.26315789  5.73684211  6.21052632\n",
      "  6.68421053  7.15789474  7.63157895  8.10526316  8.57894737  9.05263158\n",
      "  9.52631579 10.        ]\n",
      "[[0 1 0 0]\n",
      " [0 0 1 0]\n",
      " [0 0 0 1]\n",
      " [0 0 0 0]]\n",
      "[[0.48878666 0.07580328 0.70422882]\n",
      " [0.17343196 0.20761799 0.02714359]]\n",
      "[0.12218715 0.80498498 0.25215547]\n"
     ]
    }
   ],
   "source": [
    "#ways to ceate numpy\n",
    "from numpy import*\n",
    "a=arange(1,10).reshape(3,3)\n",
    "print(a)\n",
    "a=array([1,2,3],\"f\")\n",
    "print(a)\n",
    "a=zeros(5,\"i\")\n",
    "print(a)\n",
    "a=ones(5,\"i\")\n",
    "print(a)\n",
    "b=logspace(1,10,20)\n",
    "print(b)\n",
    "c=linspace(1,10,20)\n",
    "print(c)\n",
    "d=eye(4,4,k=1,dtype=\"i\")\n",
    "print(d)\n",
    "d=random.rand(2,3)#random values,but values between 0 and 1 with 2*3 \n",
    "print(d)\n",
    "e=random.ranf(3)\n",
    "print(e)\n",
    "e=random.randint(0,4,size=(3,3))\n",
    "print(e)\n"
   ]
  },
  {
   "cell_type": "code",
   "execution_count": 108,
   "metadata": {},
   "outputs": [
    {
     "name": "stdout",
     "output_type": "stream",
     "text": [
      "5\n",
      "2\n",
      "5\n",
      "[[5 6]\n",
      " [8 9]]\n",
      "[ 2  5 11]\n",
      "2\n",
      "[4 6]\n",
      "[4 5 6 7 8 9]\n",
      "[[1 4 7]\n",
      " [2 5 8]\n",
      " [3 6 9]]\n",
      "[[[ 0  1  2]\n",
      "  [ 3  4  5]\n",
      "  [ 6  7  8]\n",
      "  [ 9 10 11]\n",
      "  [12 13 14]]\n",
      "\n",
      " [[15 16 17]\n",
      "  [18 19 20]\n",
      "  [21 22 23]\n",
      "  [24 25 26]\n",
      "  [27 28 29]]]\n",
      "[[[ 0  1  2]\n",
      "  [15 16 17]]\n",
      "\n",
      " [[ 3  4  5]\n",
      "  [18 19 20]]\n",
      "\n",
      " [[ 6  7  8]\n",
      "  [21 22 23]]\n",
      "\n",
      " [[ 9 10 11]\n",
      "  [24 25 26]]\n",
      "\n",
      " [[12 13 14]\n",
      "  [27 28 29]]]\n",
      "19\n"
     ]
    }
   ],
   "source": [
    "a=array([1,2,[3,4,[5,6]],6,6])\n",
    "print(len(a))\n",
    "a=array([11,2,3])\n",
    "print(a[1])\n",
    "\n",
    "a=array([[1,2,3],[4,5,6]])\n",
    "print(a[1][1])\n",
    "\n",
    "a=array([[1,2,3],[4,5,6],[7,8,9]])\n",
    "print(a[1:,1:])\n",
    "\n",
    "a=array([11,2,3,5,6])\n",
    "print(a[[1,3,0]])#advanced indexing\n",
    "a=array([2,3,[1,[2,3,5]],6])#nested list\n",
    "print(a[2][1][0])\n",
    "a=array([[1,2,3],[4,5,6],[7,8,9]])#advanced indexing of n dimensions\n",
    "\n",
    "print(a[[1,1],[0,2]])\n",
    "print(a[a>3])#boolean indexing\n",
    "b=transpose(a,axes=(1,0))#transpose\n",
    "print(b)\n",
    "a=arange(0,30).reshape(2,5,3)#reshape and transpose of nested list\n",
    "print(a)\n",
    "d=transpose(a,axes=(1,0,2))\n",
    "print(d)\n",
    "print(a[1,1,1])#fetching element from nested array\n"
   ]
  },
  {
   "cell_type": "markdown",
   "metadata": {},
   "source": [
    "#scientific calculations"
   ]
  },
  {
   "cell_type": "code",
   "execution_count": 116,
   "metadata": {},
   "outputs": [
    {
     "name": "stdout",
     "output_type": "stream",
     "text": [
      "1\n",
      "23\n",
      "[0.         3.13549422 1.09861229 1.38629436]\n",
      "8.870597499605086\n",
      "[ 1  3  4 23]\n",
      "[[ 1 23  3  4]\n",
      " [ 1  4  5  6]]\n",
      "[ 2 27  8 10]\n"
     ]
    }
   ],
   "source": [
    "a=array([1,23,3,4])\n",
    "b=array([1,4,5,6])\n",
    "print(min(a))\n",
    "print(max(a))\n",
    "print(log(a))\n",
    "print(std(a))\n",
    "print(sort(a))\n",
    "\n",
    "\n",
    "print(a+b)\n"
   ]
  },
  {
   "cell_type": "code",
   "execution_count": 120,
   "metadata": {},
   "outputs": [
    {
     "name": "stdout",
     "output_type": "stream",
     "text": [
      "[[ 1 23  3  4]\n",
      " [ 1  4  5  6]]\n",
      "[ 1 23  3  4  1  4  5  6]\n",
      "[[ 1 23  3  4]\n",
      " [ 1  4  5  6]]\n",
      "31\n"
     ]
    }
   ],
   "source": [
    "#vstack and hstack\n",
    "print(vstack(((a,b))))\n",
    "print(hstack(((a,b))))\n",
    "print(hstack([[a,b]]))\n",
    "\n",
    "#axis\n",
    "print(a.sum(axis=0))"
   ]
  },
  {
   "cell_type": "code",
   "execution_count": null,
   "metadata": {},
   "outputs": [],
   "source": []
  },
  {
   "cell_type": "code",
   "execution_count": null,
   "metadata": {},
   "outputs": [],
   "source": []
  },
  {
   "cell_type": "code",
   "execution_count": null,
   "metadata": {},
   "outputs": [],
   "source": []
  }
 ],
 "metadata": {
  "kernelspec": {
   "display_name": "Python 3",
   "language": "python",
   "name": "python3"
  },
  "language_info": {
   "codemirror_mode": {
    "name": "ipython",
    "version": 3
   },
   "file_extension": ".py",
   "mimetype": "text/x-python",
   "name": "python",
   "nbconvert_exporter": "python",
   "pygments_lexer": "ipython3",
   "version": "3.8.3"
  }
 },
 "nbformat": 4,
 "nbformat_minor": 4
}
