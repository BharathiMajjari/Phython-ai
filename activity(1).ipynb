{
 "cells": [
  {
   "cell_type": "code",
   "execution_count": 7,
   "metadata": {},
   "outputs": [
    {
     "name": "stdout",
     "output_type": "stream",
     "text": [
      "[1180 2570  770 ... 1020 1600 1020]\n",
      "2079.8997362698374 540182.1587933188\n",
      "280.8066899295017\n",
      "-43867.60153385787\n",
      "[287484.29258295 677805.59158496 172353.54971186 ... 242555.22219423\n",
      " 405423.10235334 242555.22219423]\n"
     ]
    },
    {
     "data": {
      "text/plain": [
       "<matplotlib.collections.PathCollection at 0x58f31f0>"
      ]
     },
     "execution_count": 7,
     "metadata": {},
     "output_type": "execute_result"
    },
    {
     "data": {
      "image/png": "[encoded data removed]",
      "text/plain": [
       "<Figure size 432x288 with 1 Axes>"
      ]
     },
     "metadata": {
      "needs_background": "light"
     },
     "output_type": "display_data"
    }
   ],
   "source": [
    "import numpy as np\n",
    "import matplotlib\n",
    "from matplotlib import pyplot as plt\n",
    "import pandas as pd\n",
    "data=pd.read_csv(\"kc_house_data.csv\")\n",
    "data.describe()\n",
    "#print(data.shape)\n",
    "x=data[\"sqft_living\"].values\n",
    "y=data[\"price\"].values\n",
    "print(x)\n",
    "MX=np.mean(x)\n",
    "MY=np.mean(y)\n",
    "print(MX,MY)\n",
    "#find m and c\n",
    "#sum(x-MX)(y-MY)/(x-MX))**2\n",
    "num=0\n",
    "den=0\n",
    "for i in range(len(x)):\n",
    "    num=num+(x[i]-MX)*(y[i]-MX)\n",
    "    den=den+(x[i]-MX)**2\n",
    "k=num/den #slope\n",
    "print(k)\n",
    "c=MY-(k*MX)\n",
    "print(c)\n",
    "#find ypre for different xvalues\n",
    "ypre=np.array([])\n",
    "for i in range(len(x)):\n",
    "    l=k*x[i]+c\n",
    "    ypre=np.append(ypre,np.array([l]),axis=0)\n",
    "print(ypre)\n",
    "plt.plot(x,ypre)\n",
    "plt.scatter(x,y)\n",
    "plt.scatter(x,ypre,marker=\"*\")\n",
    "\n",
    "\n",
    "\n",
    "\n"
   ]
  },
  {
   "cell_type": "code",
   "execution_count": 8,
   "metadata": {},
   "outputs": [
    {
     "name": "stdout",
     "output_type": "stream",
     "text": [
      "\n",
      "0.4928653865220116\n"
     ]
    }
   ],
   "source": [
    "#goodness\n",
    "#r2=sum(ypre-MY)2/sum(y-MY)**2\n",
    "num=0\n",
    "den=0\n",
    "for i in range(len(x)):\n",
    "    num=num+(ypre[i]-MY)**2\n",
    "    den=den+(y[i]-MY)**2\n",
    "print(  )\n",
    "print(num/den)\n",
    "\n"
   ]
  },
  {
   "cell_type": "code",
   "execution_count": null,
   "metadata": {},
   "outputs": [],
   "source": []
  },
  {
   "cell_type": "code",
   "execution_count": null,
   "metadata": {},
   "outputs": [],
   "source": []
  }
 ],
 "metadata": {
  "kernelspec": {
   "display_name": "Python 3",
   "language": "python",
   "name": "python3"
  },
  "language_info": {
   "codemirror_mode": {
    "name": "ipython",
    "version": 3
   },
   "file_extension": ".py",
   "mimetype": "text/x-python",
   "name": "python",
   "nbconvert_exporter": "python",
   "pygments_lexer": "ipython3",
   "version": "3.8.3"
  }
 },
 "nbformat": 4,
 "nbformat_minor": 4
}
