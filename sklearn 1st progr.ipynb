{
 "cells": [
  {
   "cell_type": "code",
   "execution_count": 3,
   "metadata": {},
   "outputs": [],
   "source": [
    "import numpy as np\n",
    "import pandas as pd\n",
    "import matplotlib\n",
    "from matplotlib import pyplot as plt\n",
    "import sklearn.linear_model\n",
    "from sklearn.linear_model import LinearRegression"
   ]
  },
  {
   "cell_type": "code",
   "execution_count": 4,
   "metadata": {},
   "outputs": [
    {
     "name": "stdout",
     "output_type": "stream",
     "text": [
      "   population   profit\n",
      "0      6.1101  17.5920\n",
      "1      5.5277   9.1302\n",
      "2      8.5186  13.6620\n",
      "3      7.0032  11.8540\n",
      "4      5.8598   6.8233\n",
      "(97, 2)\n"
     ]
    }
   ],
   "source": [
    "data=pd.read_csv(\"profitdataset (2).txt\")\n",
    "print(data.head())\n",
    "print(data.shape)\n"
   ]
  },
  {
   "cell_type": "code",
   "execution_count": 19,
   "metadata": {},
   "outputs": [
    {
     "name": "stdout",
     "output_type": "stream",
     "text": [
      "mvalu [[1.19303364]]\n",
      "cval [-3.89578088]\n",
      "8.953942751950358\n",
      "0.7020315537841397\n"
     ]
    },
    {
     "data": {
      "image/png": "[encoded data removed]",
      "text/plain": [
       "<Figure size 432x288 with 1 Axes>"
      ]
     },
     "metadata": {
      "needs_background": "light"
     },
     "output_type": "display_data"
    }
   ],
   "source": [
    "x=data[[\"population\"]].values\n",
    "y=data[[\"profit\"]].values\n",
    "plt.scatter(x,y,color=\"k\")\n",
    "k=LinearRegression()\n",
    "k.fit(x,y)#load dataset into k\n",
    "print(\"mvalu\",k.coef_)#m \n",
    "print(\"cval\",k.intercept_)#c\n",
    "ypre=k.predict(x)\n",
    "plt.scatter(x,ypre)\n",
    "plt.scatter(x,y)\n",
    "plt.plot(x,ypre)\n",
    "#costfunction(m.s.e)\n",
    "from sklearn.metrics import mean_squared_error\n",
    "k=mean_squared_error(y,ypre)\n",
    "print(k)\n",
    "#r2_method\n",
    "from sklearn.metrics import r2_score\n",
    "l=r2_score(y,ypre)\n",
    "print(l)"
   ]
  },
  {
   "cell_type": "code",
   "execution_count": 15,
   "metadata": {},
   "outputs": [
    {
     "name": "stdout",
     "output_type": "stream",
     "text": [
      "profit we ger by 45000 people [[1472.87052054]]\n",
      "profit we ger by 45000 people [[7915.25219917]]\n"
     ]
    }
   ],
   "source": [
    "n=4.5\n",
    "w=9.9\n",
    "print(\"profit we ger by 45000 people\",k.predict([[n]])*1000)\n",
    "print(\"profit we ger by 45000 people\",k.predict([[w]])*1000)\n"
   ]
  },
  {
   "cell_type": "code",
   "execution_count": null,
   "metadata": {},
   "outputs": [],
   "source": []
  },
  {
   "cell_type": "code",
   "execution_count": null,
   "metadata": {},
   "outputs": [],
   "source": []
  }
 ],
 "metadata": {
  "kernelspec": {
   "display_name": "Python 3",
   "language": "python",
   "name": "python3"
  },
  "language_info": {
   "codemirror_mode": {
    "name": "ipython",
    "version": 3
   },
   "file_extension": ".py",
   "mimetype": "text/x-python",
   "name": "python",
   "nbconvert_exporter": "python",
   "pygments_lexer": "ipython3",
   "version": "3.8.3"
  }
 },
 "nbformat": 4,
 "nbformat_minor": 4
}
